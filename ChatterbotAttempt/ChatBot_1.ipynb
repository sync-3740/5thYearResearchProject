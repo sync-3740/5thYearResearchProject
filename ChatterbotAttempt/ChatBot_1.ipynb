{
 "cells": [
  {
   "cell_type": "code",
   "execution_count": 17,
   "id": "5be394e1",
   "metadata": {},
   "outputs": [
    {
     "name": "stdout",
     "output_type": "stream",
     "text": [
      "Training cardiovascular_training.yml: [####################] 100%\n",
      "When the heart pumps blood around the body, the blood puts pressure on the walls of blood vessels. This is known as blood pressure.\n"
     ]
    }
   ],
   "source": [
    "# Import \"chatbot\" from\n",
    "# chatterbot package.\n",
    "from chatterbot import ChatBot\n",
    "  \n",
    "# Inorder to train our bot, we have\n",
    "# to import a trainer package0\n",
    "# \"ChatterBotCorpusTrainer\"\n",
    "from chatterbot.trainers import ChatterBotCorpusTrainer\n",
    " \n",
    "  \n",
    "# Give a name to the chatbot “corona bot”\n",
    "# and assign a trainer component.\n",
    "chatbot=ChatBot('heart bot')\n",
    " \n",
    "# Create a new trainer for the chatbot\n",
    "trainer = ChatterBotCorpusTrainer(chatbot)\n",
    "  \n",
    "# Now let us train our bot with multiple corpus\n",
    "trainer.train(\"chatterbot.corpus.custom.cardiovascular_training\")\n",
    "  \n",
    "response = chatbot.get_response('What is blood pressure')\n",
    "\n",
    "print(response)"
   ]
  },
  {
   "cell_type": "code",
   "execution_count": 18,
   "id": "cdd2fe7b",
   "metadata": {},
   "outputs": [],
   "source": [
    "def run_chatbot():\n",
    "    sentence = input(\"Say something \\n\")\n",
    "    response = chatbot.get_response(sentence)\n",
    "    print(response)\n",
    "    while True:\n",
    "        sentence = input(\"\\n\")\n",
    "        if sentence == \"Exit\":\n",
    "            return \"Hope you had fun, chat to you again soon\"\n",
    "        else:\n",
    "            response = chatbot.get_response(sentence)\n",
    "        print(response)"
   ]
  },
  {
   "cell_type": "code",
   "execution_count": 19,
   "id": "43894ec6",
   "metadata": {},
   "outputs": [
    {
     "name": "stdout",
     "output_type": "stream",
     "text": [
      "Say something \n",
      "What is blood pressure\n",
      "When the heart pumps blood around the body, the blood puts pressure on the walls of blood vessels. This is known as blood pressure.\n",
      "\n",
      "What is it measured in\n",
      "What is it measured in\n",
      "Blood pressure is measured in millimetres of mercury, which is noted as mmHg\n",
      "\n",
      "What do the blood pressure numbers mean\n",
      "What do the blood pressure numbers mean\n",
      "All blood pressure measurements include two numbers which are systolic blood pressure (SBP) and diastolic blood pressure (DBP). These numbers reflect the pressure against blood vessel walls when the heart contracts (SBP) and relaxes (DBP) every time it beats\n",
      "\n",
      "can you give me an exampele\n",
      "can you give me an exampele\n",
      "Yes?\n",
      "\n",
      "can you give me an example\n",
      "can you give me an example\n",
      "Who are you?\n",
      "\n",
      "can you give an example\n",
      "can you give an example\n",
      "A typical blood pressure measurement may look like this \\n 120/80 mmHg, which is read as “120 over 80 millimetres of mercury”. The first number (120) is the SBP, and the second number (80) is the DBP\n",
      "\n",
      "what is blood pressure measured in\n",
      "what is blood pressure measured in\n",
      "so you like jocks?\n",
      "\n",
      "Exit\n",
      "Exit\n"
     ]
    },
    {
     "data": {
      "text/plain": [
       "'Hope you had fun, chat to you again soon'"
      ]
     },
     "execution_count": 19,
     "metadata": {},
     "output_type": "execute_result"
    }
   ],
   "source": [
    "run_chatbot()"
   ]
  },
  {
   "cell_type": "code",
   "execution_count": 5,
   "id": "80488d43",
   "metadata": {},
   "outputs": [
    {
     "data": {
      "text/plain": [
       "'C:\\\\Users\\\\jonny\\\\AppData\\\\Roaming\\\\Python\\\\Python37\\\\site-packages\\\\chatterbot_corpus\\\\data'"
      ]
     },
     "execution_count": 5,
     "metadata": {},
     "output_type": "execute_result"
    }
   ],
   "source": [
    "from chatterbot_corpus.corpus import DATA_DIRECTORY\n",
    "\n",
    "DATA_DIRECTORY"
   ]
  },
  {
   "cell_type": "code",
   "execution_count": null,
   "id": "89fabee2",
   "metadata": {},
   "outputs": [],
   "source": []
  }
 ],
 "metadata": {
  "kernelspec": {
   "display_name": "Python 3 (ipykernel)",
   "language": "python",
   "name": "python3"
  },
  "language_info": {
   "codemirror_mode": {
    "name": "ipython",
    "version": 3
   },
   "file_extension": ".py",
   "mimetype": "text/x-python",
   "name": "python",
   "nbconvert_exporter": "python",
   "pygments_lexer": "ipython3",
   "version": "3.7.11"
  }
 },
 "nbformat": 4,
 "nbformat_minor": 5
}
